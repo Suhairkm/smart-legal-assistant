{
 "cells": [
  {
   "cell_type": "code",
   "execution_count": null,
   "id": "07afeff9-94f1-4802-b043-6d184acdecf9",
   "metadata": {},
   "outputs": [],
   "source": []
  }
 ],
 "metadata": {
  "kernelspec": {
   "display_name": "",
   "name": ""
  },
  "language_info": {
   "name": ""
  }
 },
 "nbformat": 4,
 "nbformat_minor": 5
}
