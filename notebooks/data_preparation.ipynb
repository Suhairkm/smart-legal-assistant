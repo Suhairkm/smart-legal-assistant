{
 "cells": [
  {
   "cell_type": "markdown",
   "id": "d1ef4d1c-2d33-47c1-9d56-6a1a8f727f1f",
   "metadata": {},
   "source": [
    "# "
   ]
  },
  {
   "cell_type": "code",
   "execution_count": 2,
   "id": "966db11d-a730-4f02-acc6-a8d245544136",
   "metadata": {},
   "outputs": [
    {
     "name": "stdout",
     "output_type": "stream",
     "text": [
      "Total contracts: 510\n"
     ]
    }
   ],
   "source": [
    "import json\n",
    "import pandas as pd\n",
    "\n",
    "# Load dataset\n",
    "with open('../data/cuad_v1.json', 'r') as f:\n",
    "    raw_data = json.load(f)\n",
    "\n",
    "contracts = raw_data['data']\n",
    "print(f\"Total contracts: {len(contracts)}\")"
   ]
  },
  {
   "cell_type": "code",
   "execution_count": null,
   "id": "931c2b10-9878-461d-9948-4b002027fecf",
   "metadata": {},
   "outputs": [],
   "source": [
    "#Prepare Dataset for clause classification"
   ]
  },
  {
   "cell_type": "code",
   "execution_count": 3,
   "id": "3813599f-2f35-4ed4-b1cd-c414dc9a1ba9",
   "metadata": {},
   "outputs": [
    {
     "name": "stdout",
     "output_type": "stream",
     "text": [
      "                                                text  \\\n",
      "0  EXHIBIT 10.6\\n\\n                              ...   \n",
      "1  EXHIBIT 10.6\\n\\n                              ...   \n",
      "2  EXHIBIT 10.6\\n\\n                              ...   \n",
      "3  EXHIBIT 10.6\\n\\n                              ...   \n",
      "4  EXHIBIT 10.6\\n\\n                              ...   \n",
      "\n",
      "                                              clause  label  \n",
      "0  Highlight the parts (if any) of this contract ...      1  \n",
      "1  Highlight the parts (if any) of this contract ...      1  \n",
      "2  Highlight the parts (if any) of this contract ...      1  \n",
      "3  Highlight the parts (if any) of this contract ...      1  \n",
      "4  Highlight the parts (if any) of this contract ...      1  \n",
      "label\n",
      "0    14208\n",
      "1     6702\n",
      "Name: count, dtype: int64\n"
     ]
    }
   ],
   "source": [
    "classification_data = []\n",
    "\n",
    "for contract in contracts:\n",
    "    for para in contract['paragraphs']:\n",
    "        context = para['context']\n",
    "        for qa in para['qas']:\n",
    "            question = qa['question']\n",
    "            is_impossible = qa['is_impossible']  # True if clause not present\n",
    "            \n",
    "            classification_data.append({\n",
    "                'text': context,\n",
    "                'clause': question,\n",
    "                'label': 0 if is_impossible else 1\n",
    "            })\n",
    "\n",
    "df_clf = pd.DataFrame(classification_data)\n",
    "print(df_clf.head())\n",
    "print(df_clf['label'].value_counts())\n"
   ]
  },
  {
   "cell_type": "code",
   "execution_count": 5,
   "id": "97ad80aa-8d31-4f90-8fee-6e34e11625c4",
   "metadata": {},
   "outputs": [],
   "source": [
    "#save clause classification data\n",
    "\n",
    "df_clf.to_csv('../data/clause_classification.csv', index=False)\n"
   ]
  },
  {
   "cell_type": "code",
   "execution_count": 6,
   "id": "4df0e448-19db-424e-977d-778e1e8b8fc8",
   "metadata": {},
   "outputs": [
    {
     "name": "stdout",
     "output_type": "stream",
     "text": [
      "                                             context  \\\n",
      "0  EXHIBIT 10.6\\n\\n                              ...   \n",
      "1  EXHIBIT 10.6\\n\\n                              ...   \n",
      "2  EXHIBIT 10.6\\n\\n                              ...   \n",
      "3  EXHIBIT 10.6\\n\\n                              ...   \n",
      "4  EXHIBIT 10.6\\n\\n                              ...   \n",
      "\n",
      "                                            question  \\\n",
      "0  Highlight the parts (if any) of this contract ...   \n",
      "1  Highlight the parts (if any) of this contract ...   \n",
      "2  Highlight the parts (if any) of this contract ...   \n",
      "3  Highlight the parts (if any) of this contract ...   \n",
      "4  Highlight the parts (if any) of this contract ...   \n",
      "\n",
      "                                              answer  \n",
      "0                              DISTRIBUTOR AGREEMENT  \n",
      "1                                        Distributor  \n",
      "2                        7th day of September, 1999.  \n",
      "3  The term of this  Agreement  shall be ten (10)...  \n",
      "4  The term of this  Agreement  shall be ten (10)...  \n"
     ]
    }
   ],
   "source": [
    "#prepare dataset for QA APP\n",
    "\n",
    "qa_data = []\n",
    "\n",
    "for contract in contracts:\n",
    "    for para in contract['paragraphs']:\n",
    "        context = para['context']\n",
    "        for qa in para['qas']:\n",
    "            if not qa['is_impossible']:\n",
    "                question = qa['question']\n",
    "                answers = qa['answers']\n",
    "                if answers:\n",
    "                    answer_text = answers[0]['text']\n",
    "                    qa_data.append({\n",
    "                        'context': context,\n",
    "                        'question': question,\n",
    "                        'answer': answer_text\n",
    "                    })\n",
    "\n",
    "df_qa = pd.DataFrame(qa_data)\n",
    "print(df_qa.head())\n"
   ]
  },
  {
   "cell_type": "code",
   "execution_count": 7,
   "id": "593a1f53-cafb-4080-a1b2-a1337003c791",
   "metadata": {},
   "outputs": [],
   "source": [
    "#Save QA Dataset\n",
    "\n",
    "df_qa.to_csv('../data/qa_dataset.csv', index=False)\n"
   ]
  },
  {
   "cell_type": "code",
   "execution_count": null,
   "id": "39c3238b-b698-48aa-8936-235cc5a5bb0b",
   "metadata": {},
   "outputs": [],
   "source": []
  },
  {
   "cell_type": "code",
   "execution_count": null,
   "id": "ca800335-b03f-4479-8e16-06ab4eae0748",
   "metadata": {},
   "outputs": [],
   "source": []
  }
 ],
 "metadata": {
  "kernelspec": {
   "display_name": "Python 3 (ipykernel)",
   "language": "python",
   "name": "python3"
  },
  "language_info": {
   "codemirror_mode": {
    "name": "ipython",
    "version": 3
   },
   "file_extension": ".py",
   "mimetype": "text/x-python",
   "name": "python",
   "nbconvert_exporter": "python",
   "pygments_lexer": "ipython3",
   "version": "3.13.1"
  }
 },
 "nbformat": 4,
 "nbformat_minor": 5
}
